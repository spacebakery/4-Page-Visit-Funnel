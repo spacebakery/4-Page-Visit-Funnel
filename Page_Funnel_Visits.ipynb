{
 "cells": [
  {
   "cell_type": "code",
   "execution_count": 1,
   "metadata": {
    "ExecuteTime": {
     "end_time": "2023-12-14T23:10:39.646971Z",
     "start_time": "2023-12-14T23:10:37.330423Z"
    }
   },
   "outputs": [],
   "source": [
    "import pandas as pd"
   ]
  },
  {
   "cell_type": "markdown",
   "metadata": {},
   "source": [
    "Import all the files"
   ]
  },
  {
   "cell_type": "code",
   "execution_count": 2,
   "metadata": {
    "ExecuteTime": {
     "end_time": "2023-12-14T23:10:39.762379Z",
     "start_time": "2023-12-14T23:10:39.686130Z"
    }
   },
   "outputs": [],
   "source": [
    "visits = pd.read_csv('visits.csv',\n",
    "                     parse_dates=[1])\n",
    "cart = pd.read_csv('cart.csv',\n",
    "                   parse_dates=[1])\n",
    "                   \n",
    "checkout = pd.read_csv('checkout.csv',\n",
    "                       parse_dates=[1])\n",
    "purchase = pd.read_csv('purchase.csv',\n",
    "                       parse_dates=[1])"
   ]
  },
  {
   "cell_type": "markdown",
   "metadata": {},
   "source": [
    "Step 1: Inspect the DataFrames using `print` and `head`"
   ]
  },
  {
   "cell_type": "code",
   "execution_count": 3,
   "metadata": {
    "ExecuteTime": {
     "end_time": "2023-12-14T23:10:39.799484Z",
     "start_time": "2023-12-14T23:10:39.742484Z"
    }
   },
   "outputs": [
    {
     "name": "stdout",
     "output_type": "stream",
     "text": [
      "                                user_id          visit_time\n",
      "0  943647ef-3682-4750-a2e1-918ba6f16188 2017-04-07 15:14:00\n",
      "1  0c3a3dd0-fb64-4eac-bf84-ba069ce409f2 2017-01-26 14:24:00\n",
      "2  6e0b2d60-4027-4d9a-babd-0e7d40859fb1 2017-08-20 08:23:00\n",
      "3  6879527e-c5a6-4d14-b2da-50b85212b0ab 2017-11-04 18:15:00\n",
      "4  a84327ff-5daa-4ba1-b789-d5b4caf81e96 2017-02-27 11:25:00\n",
      "                                user_id           cart_time\n",
      "0  2be90e7c-9cca-44e0-bcc5-124b945ff168 2017-11-07 20:45:00\n",
      "1  4397f73f-1da3-4ab3-91af-762792e25973 2017-05-27 01:35:00\n",
      "2  a9db3d4b-0a0a-4398-a55a-ebb2c7adf663 2017-03-04 10:38:00\n",
      "3  b594862a-36c5-47d5-b818-6e9512b939b3 2017-09-27 08:22:00\n",
      "4  a68a16e2-94f0-4ce8-8ce3-784af0bbb974 2017-07-26 15:48:00\n",
      "                                user_id       checkout_time\n",
      "0  d33bdc47-4afa-45bc-b4e4-dbe948e34c0d 2017-06-25 09:29:00\n",
      "1  4ac186f0-9954-4fea-8a27-c081e428e34e 2017-04-07 20:11:00\n",
      "2  3c9c78a7-124a-4b77-8d2e-e1926e011e7d 2017-07-13 11:38:00\n",
      "3  89fe330a-8966-4756-8f7c-3bdbcd47279a 2017-04-20 16:15:00\n",
      "4  3ccdaf69-2d30-40de-b083-51372881aedd 2017-01-08 20:52:00\n",
      "                                user_id       purchase_time\n",
      "0  4b44ace4-2721-47a0-b24b-15fbfa2abf85 2017-05-11 04:25:00\n",
      "1  02e684ae-a448-408f-a9ff-dcb4a5c99aac 2017-09-05 08:45:00\n",
      "2  4b4bc391-749e-4b90-ab8f-4f6e3c84d6dc 2017-11-20 20:49:00\n",
      "3  a5dbb25f-3c36-4103-9030-9f7c6241cd8d 2017-01-22 15:18:00\n",
      "4  46a3186d-7f5a-4ab9-87af-84d05bfd4867 2017-06-11 11:32:00\n"
     ]
    }
   ],
   "source": [
    "print(visits.head(5))\n",
    "print(cart.head(5))\n",
    "print(checkout.head(5))\n",
    "print(purchase.head(5))"
   ]
  },
  {
   "cell_type": "markdown",
   "metadata": {},
   "source": [
    "Step 2: Left merging visits and cart"
   ]
  },
  {
   "cell_type": "code",
   "execution_count": 5,
   "metadata": {
    "ExecuteTime": {
     "end_time": "2023-12-14T23:10:46.565003Z",
     "start_time": "2023-12-14T23:10:46.512554Z"
    }
   },
   "outputs": [
    {
     "data": {
      "text/plain": "                                user_id          visit_time  \\\n0  943647ef-3682-4750-a2e1-918ba6f16188 2017-04-07 15:14:00   \n1  0c3a3dd0-fb64-4eac-bf84-ba069ce409f2 2017-01-26 14:24:00   \n2  6e0b2d60-4027-4d9a-babd-0e7d40859fb1 2017-08-20 08:23:00   \n3  6879527e-c5a6-4d14-b2da-50b85212b0ab 2017-11-04 18:15:00   \n4  a84327ff-5daa-4ba1-b789-d5b4caf81e96 2017-02-27 11:25:00   \n\n            cart_time  \n0                 NaT  \n1 2017-01-26 14:44:00  \n2 2017-08-20 08:31:00  \n3                 NaT  \n4                 NaT  ",
      "text/html": "<div>\n<style scoped>\n    .dataframe tbody tr th:only-of-type {\n        vertical-align: middle;\n    }\n\n    .dataframe tbody tr th {\n        vertical-align: top;\n    }\n\n    .dataframe thead th {\n        text-align: right;\n    }\n</style>\n<table border=\"1\" class=\"dataframe\">\n  <thead>\n    <tr style=\"text-align: right;\">\n      <th></th>\n      <th>user_id</th>\n      <th>visit_time</th>\n      <th>cart_time</th>\n    </tr>\n  </thead>\n  <tbody>\n    <tr>\n      <th>0</th>\n      <td>943647ef-3682-4750-a2e1-918ba6f16188</td>\n      <td>2017-04-07 15:14:00</td>\n      <td>NaT</td>\n    </tr>\n    <tr>\n      <th>1</th>\n      <td>0c3a3dd0-fb64-4eac-bf84-ba069ce409f2</td>\n      <td>2017-01-26 14:24:00</td>\n      <td>2017-01-26 14:44:00</td>\n    </tr>\n    <tr>\n      <th>2</th>\n      <td>6e0b2d60-4027-4d9a-babd-0e7d40859fb1</td>\n      <td>2017-08-20 08:23:00</td>\n      <td>2017-08-20 08:31:00</td>\n    </tr>\n    <tr>\n      <th>3</th>\n      <td>6879527e-c5a6-4d14-b2da-50b85212b0ab</td>\n      <td>2017-11-04 18:15:00</td>\n      <td>NaT</td>\n    </tr>\n    <tr>\n      <th>4</th>\n      <td>a84327ff-5daa-4ba1-b789-d5b4caf81e96</td>\n      <td>2017-02-27 11:25:00</td>\n      <td>NaT</td>\n    </tr>\n  </tbody>\n</table>\n</div>"
     },
     "execution_count": 5,
     "metadata": {},
     "output_type": "execute_result"
    }
   ],
   "source": [
    "visits_cart = pd.merge(visits, cart, how='left')\n",
    "visits_cart.head()"
   ]
  },
  {
   "cell_type": "markdown",
   "metadata": {},
   "source": [
    "Step 3: How long is `visits_cart`?"
   ]
  },
  {
   "cell_type": "code",
   "execution_count": 22,
   "metadata": {
    "ExecuteTime": {
     "end_time": "2023-12-15T00:22:11.616122Z",
     "start_time": "2023-12-15T00:22:11.331723Z"
    }
   },
   "outputs": [
    {
     "data": {
      "text/plain": "2000"
     },
     "execution_count": 22,
     "metadata": {},
     "output_type": "execute_result"
    }
   ],
   "source": [
    "len(visits_cart)\n",
    "# visits_cart.shape    # another way"
   ]
  },
  {
   "cell_type": "markdown",
   "metadata": {},
   "source": [
    "Step 4: How many timestamps are null for `cart_time`?"
   ]
  },
  {
   "cell_type": "code",
   "execution_count": 14,
   "metadata": {
    "ExecuteTime": {
     "end_time": "2023-12-15T00:08:08.226107Z",
     "start_time": "2023-12-15T00:08:08.193610Z"
    }
   },
   "outputs": [
    {
     "data": {
      "text/plain": "1652"
     },
     "execution_count": 14,
     "metadata": {},
     "output_type": "execute_result"
    }
   ],
   "source": [
    "visits_cart.cart_time.isna().sum()\n",
    "# len(visits_cart[visits_cart.cart_time.isnull()])    # another way"
   ]
  },
  {
   "cell_type": "markdown",
   "metadata": {},
   "source": [
    "Step 5: What percentage only visited?"
   ]
  },
  {
   "cell_type": "code",
   "execution_count": 77,
   "metadata": {
    "ExecuteTime": {
     "end_time": "2023-12-15T01:05:51.659990Z",
     "start_time": "2023-12-15T01:05:51.638507Z"
    }
   },
   "outputs": [
    {
     "data": {
      "text/plain": "'82.6% of users who visited Cool T-Shirts Inc. ended up not placing a t-shirt in their cart'"
     },
     "execution_count": 77,
     "metadata": {},
     "output_type": "execute_result"
    }
   ],
   "source": [
    "ratio_cart = visits_cart.cart_time.isna().sum() / len(visits)\n",
    "'{}% of users who visited Cool T-Shirts Inc. ended up not placing a t-shirt in their cart'.format(ratio_cart * 100)"
   ]
  },
  {
   "cell_type": "markdown",
   "metadata": {},
   "source": [
    "Step 6: What percentage placed a t-shirt in their cart but did not checkout?"
   ]
  },
  {
   "cell_type": "code",
   "execution_count": 154,
   "metadata": {
    "ExecuteTime": {
     "end_time": "2023-12-15T02:00:55.070625Z",
     "start_time": "2023-12-15T02:00:55.049484Z"
    }
   },
   "outputs": [
    {
     "data": {
      "text/plain": "'35.06% of users who placed a t-shirts in their cart ended up not checking out'"
     },
     "execution_count": 154,
     "metadata": {},
     "output_type": "execute_result"
    }
   ],
   "source": [
    "cart_checkout = pd.merge(cart, checkout, how='left')\n",
    "null_checkout = len(cart_checkout[cart_checkout.checkout_time.isnull()])\n",
    "ratio_checkout = null_checkout / len(cart)\n",
    "'{}% of users who placed a t-shirts in their cart ended up not checking out'.format(round(ratio_checkout * 100, 2))"
   ]
  },
  {
   "cell_type": "markdown",
   "metadata": {},
   "source": [
    "Step 7: Merge it all together"
   ]
  },
  {
   "cell_type": "code",
   "execution_count": 165,
   "metadata": {
    "ExecuteTime": {
     "end_time": "2023-12-15T02:05:47.203709Z",
     "start_time": "2023-12-15T02:05:47.131825Z"
    }
   },
   "outputs": [
    {
     "name": "stdout",
     "output_type": "stream",
     "text": [
      "(2108, 5)\n"
     ]
    },
    {
     "data": {
      "text/plain": "                                   user_id          visit_time  \\\n0     943647ef-3682-4750-a2e1-918ba6f16188 2017-04-07 15:14:00   \n1     0c3a3dd0-fb64-4eac-bf84-ba069ce409f2 2017-01-26 14:24:00   \n2     6e0b2d60-4027-4d9a-babd-0e7d40859fb1 2017-08-20 08:23:00   \n3     6879527e-c5a6-4d14-b2da-50b85212b0ab 2017-11-04 18:15:00   \n4     a84327ff-5daa-4ba1-b789-d5b4caf81e96 2017-02-27 11:25:00   \n...                                    ...                 ...   \n2103  33913ac2-03da-45ae-8fc3-fea39df827c6 2017-03-25 03:29:00   \n2104  4f850132-b99d-4623-80e6-6e61d003577e 2017-01-08 09:57:00   \n2105  f0830b9b-1f5c-4e74-b63d-3f847cc6ce70 2017-09-07 12:56:00   \n2106  b01bffa7-63ba-4cd3-9d93-eb1477c23831 2017-07-20 04:37:00   \n2107  0336ca81-8d68-443f-9248-ac0b8ad147d5 2017-11-15 10:11:00   \n\n               cart_time       checkout_time       purchase_time  \n0                    NaT                 NaT                 NaT  \n1    2017-01-26 14:44:00 2017-01-26 14:54:00 2017-01-26 15:08:00  \n2    2017-08-20 08:31:00                 NaT                 NaT  \n3                    NaT                 NaT                 NaT  \n4                    NaT                 NaT                 NaT  \n...                  ...                 ...                 ...  \n2103                 NaT                 NaT                 NaT  \n2104                 NaT                 NaT                 NaT  \n2105                 NaT                 NaT                 NaT  \n2106                 NaT                 NaT                 NaT  \n2107                 NaT                 NaT                 NaT  \n\n[2108 rows x 5 columns]",
      "text/html": "<div>\n<style scoped>\n    .dataframe tbody tr th:only-of-type {\n        vertical-align: middle;\n    }\n\n    .dataframe tbody tr th {\n        vertical-align: top;\n    }\n\n    .dataframe thead th {\n        text-align: right;\n    }\n</style>\n<table border=\"1\" class=\"dataframe\">\n  <thead>\n    <tr style=\"text-align: right;\">\n      <th></th>\n      <th>user_id</th>\n      <th>visit_time</th>\n      <th>cart_time</th>\n      <th>checkout_time</th>\n      <th>purchase_time</th>\n    </tr>\n  </thead>\n  <tbody>\n    <tr>\n      <th>0</th>\n      <td>943647ef-3682-4750-a2e1-918ba6f16188</td>\n      <td>2017-04-07 15:14:00</td>\n      <td>NaT</td>\n      <td>NaT</td>\n      <td>NaT</td>\n    </tr>\n    <tr>\n      <th>1</th>\n      <td>0c3a3dd0-fb64-4eac-bf84-ba069ce409f2</td>\n      <td>2017-01-26 14:24:00</td>\n      <td>2017-01-26 14:44:00</td>\n      <td>2017-01-26 14:54:00</td>\n      <td>2017-01-26 15:08:00</td>\n    </tr>\n    <tr>\n      <th>2</th>\n      <td>6e0b2d60-4027-4d9a-babd-0e7d40859fb1</td>\n      <td>2017-08-20 08:23:00</td>\n      <td>2017-08-20 08:31:00</td>\n      <td>NaT</td>\n      <td>NaT</td>\n    </tr>\n    <tr>\n      <th>3</th>\n      <td>6879527e-c5a6-4d14-b2da-50b85212b0ab</td>\n      <td>2017-11-04 18:15:00</td>\n      <td>NaT</td>\n      <td>NaT</td>\n      <td>NaT</td>\n    </tr>\n    <tr>\n      <th>4</th>\n      <td>a84327ff-5daa-4ba1-b789-d5b4caf81e96</td>\n      <td>2017-02-27 11:25:00</td>\n      <td>NaT</td>\n      <td>NaT</td>\n      <td>NaT</td>\n    </tr>\n    <tr>\n      <th>...</th>\n      <td>...</td>\n      <td>...</td>\n      <td>...</td>\n      <td>...</td>\n      <td>...</td>\n    </tr>\n    <tr>\n      <th>2103</th>\n      <td>33913ac2-03da-45ae-8fc3-fea39df827c6</td>\n      <td>2017-03-25 03:29:00</td>\n      <td>NaT</td>\n      <td>NaT</td>\n      <td>NaT</td>\n    </tr>\n    <tr>\n      <th>2104</th>\n      <td>4f850132-b99d-4623-80e6-6e61d003577e</td>\n      <td>2017-01-08 09:57:00</td>\n      <td>NaT</td>\n      <td>NaT</td>\n      <td>NaT</td>\n    </tr>\n    <tr>\n      <th>2105</th>\n      <td>f0830b9b-1f5c-4e74-b63d-3f847cc6ce70</td>\n      <td>2017-09-07 12:56:00</td>\n      <td>NaT</td>\n      <td>NaT</td>\n      <td>NaT</td>\n    </tr>\n    <tr>\n      <th>2106</th>\n      <td>b01bffa7-63ba-4cd3-9d93-eb1477c23831</td>\n      <td>2017-07-20 04:37:00</td>\n      <td>NaT</td>\n      <td>NaT</td>\n      <td>NaT</td>\n    </tr>\n    <tr>\n      <th>2107</th>\n      <td>0336ca81-8d68-443f-9248-ac0b8ad147d5</td>\n      <td>2017-11-15 10:11:00</td>\n      <td>NaT</td>\n      <td>NaT</td>\n      <td>NaT</td>\n    </tr>\n  </tbody>\n</table>\n<p>2108 rows × 5 columns</p>\n</div>"
     },
     "execution_count": 165,
     "metadata": {},
     "output_type": "execute_result"
    }
   ],
   "source": [
    "all_data = pd.merge(visits, cart, how='left').merge(checkout, how='left').merge(purchase, how='left')\n",
    "print(all_data.shape)\n",
    "all_data"
   ]
  },
  {
   "cell_type": "markdown",
   "metadata": {},
   "source": [
    "Step 8: % of users who got to checkout but did not purchase"
   ]
  },
  {
   "cell_type": "code",
   "execution_count": 152,
   "metadata": {
    "ExecuteTime": {
     "end_time": "2023-12-15T02:00:23.139341Z",
     "start_time": "2023-12-15T02:00:23.091578Z"
    }
   },
   "outputs": [
    {
     "data": {
      "text/plain": "'88.05% of users who got to checkout did not purchase'"
     },
     "execution_count": 152,
     "metadata": {},
     "output_type": "execute_result"
    }
   ],
   "source": [
    "ratio_purchase = (all_data.purchase_time.isnull().sum() / len(all_data.checkout_time) * 100)\n",
    "'{}% of users who got to checkout did not purchase'.format(round(ratio_purchase, 2))"
   ]
  },
  {
   "cell_type": "markdown",
   "metadata": {},
   "source": [
    "Step 9: check each part of the funnel, let's print all 3 of them again"
   ]
  },
  {
   "cell_type": "code",
   "execution_count": 94,
   "outputs": [
    {
     "data": {
      "text/plain": "user_id          2108\nvisit_time       2108\ncart_time         456\ncheckout_time     334\npurchase_time     252\ndtype: int64"
     },
     "execution_count": 94,
     "metadata": {},
     "output_type": "execute_result"
    }
   ],
   "source": [
    "# notes\n",
    "all_data.count()"
   ],
   "metadata": {
    "collapsed": false,
    "ExecuteTime": {
     "start_time": "2023-12-15T01:19:45.345084Z"
    }
   }
  },
  {
   "cell_type": "code",
   "execution_count": 149,
   "outputs": [
    {
     "name": "stdout",
     "output_type": "stream",
     "text": [
      "334\n",
      "334\n",
      "334\n"
     ]
    }
   ],
   "source": [
    "# notes. subset non-null rows    # .isnull/.isna & .notnull/.notna\n",
    "print(all_data.checkout_time.count())    # using count() method\n",
    "print(all_data.checkout_time.notnull().sum())    # using notnull() or notna() and sum()\n",
    "print(len(all_data[~all_data.checkout_time.isnull()]))    # using ~ to reverse True/False"
   ],
   "metadata": {
    "collapsed": false,
    "ExecuteTime": {
     "end_time": "2023-12-15T01:57:11.071526Z",
     "start_time": "2023-12-15T01:57:11.027502Z"
    }
   }
  },
  {
   "cell_type": "code",
   "execution_count": 169,
   "outputs": [
    {
     "name": "stdout",
     "output_type": "stream",
     "text": [
      "% of user who get to visits but did not get cart: 0.7837\n",
      "% of user who get to cart but did not get checkout: 0.2675\n",
      "% of user who get to checkout but did not get purchase: 0.2455\n"
     ]
    }
   ],
   "source": [
    "n_visit = all_data.visit_time.count()\n",
    "n_cart = all_data.cart_time.notnull().sum()\n",
    "n_checkout = all_data.checkout_time.notnull().sum()\n",
    "n_purchase = all_data.purchase_time.notnull().sum()\n",
    "\n",
    "ratio_cart = round((n_visit - n_cart) / n_visit, 4)\n",
    "ratio_checkout = round((n_cart - n_checkout) / n_cart, 4)\n",
    "ratio_purchase = round((n_checkout - n_purchase) / n_checkout, 4)\n",
    "\n",
    "message = '% of user who get to {} but did not get {}: {}'\n",
    "print(message.format('visits', 'cart', ratio_cart))\n",
    "print(message.format('cart', 'checkout', ratio_checkout))\n",
    "print(message.format('checkout', 'purchase', ratio_purchase))"
   ],
   "metadata": {
    "collapsed": false,
    "ExecuteTime": {
     "end_time": "2023-12-15T02:12:30.846644Z",
     "start_time": "2023-12-15T02:12:30.800817Z"
    }
   }
  },
  {
   "cell_type": "code",
   "execution_count": 161,
   "outputs": [
    {
     "name": "stdout",
     "output_type": "stream",
     "text": [
      "% of users who got to checkout but did not purchase: 0.2455\n"
     ]
    }
   ],
   "source": [
    "# altern solution\n",
    "# df subset checkout\n",
    "reached_checkout = all_data[~all_data.checkout_time.isnull()]\n",
    "# df sub set checkout but not purchase\n",
    "checkout_not_purchase = all_data[(all_data.purchase_time.isnull()) & (~all_data.checkout_time.isnull())]\n",
    "# checkout not purchase ratio\n",
    "checkout_not_purchase_percent = float(len(checkout_not_purchase)) / float(len(reached_checkout))\n",
    "# print statement\n",
    "print(\"% of users who got to checkout but did not purchase:\",round(checkout_not_purchase_percent,4))\n"
   ],
   "metadata": {
    "collapsed": false,
    "ExecuteTime": {
     "end_time": "2023-12-15T02:02:14.660463Z",
     "start_time": "2023-12-15T02:02:14.624701Z"
    }
   }
  },
  {
   "cell_type": "markdown",
   "metadata": {},
   "source": [
    "*The weakest part of the funnel is clearly getting a person who visited the site to add a tshirt to their cart. Once they've added a t-shirt to their cart it is fairly likely they end up purchasing it. A suggestion could be to make the add-to-cart button more prominent on the front page.*\n",
    "\n",
    "\n",
    "Step 10: adding new column"
   ]
  },
  {
   "cell_type": "code",
   "execution_count": 224,
   "metadata": {
    "ExecuteTime": {
     "end_time": "2023-12-15T02:55:12.757946Z",
     "start_time": "2023-12-15T02:55:12.748999Z"
    }
   },
   "outputs": [
    {
     "name": "stdout",
     "output_type": "stream",
     "text": [
      "% of user who get to visit but did not get cart: 78.37\n",
      "% of user who get to cart but did not get checkout: 26.75\n",
      "% of user who get to checkout but did not get purchase: 24.55\n",
      "<Error: column level out of range>\n",
      "None\n"
     ]
    }
   ],
   "source": [
    "# function import\n",
    "from funnel import funnel_ratio\n",
    "# funnel_ratio() prompt column level of a df and return average ratio of the level regarding the parent level \n",
    "print(funnel_ratio(2, all_data))\n",
    "print(funnel_ratio(3, all_data))\n",
    "print(funnel_ratio(4, all_data))\n",
    "print(funnel_ratio(5, all_data))\n"
   ]
  },
  {
   "cell_type": "code",
   "execution_count": 221,
   "outputs": [
    {
     "name": "stdout",
     "output_type": "stream",
     "text": [
      "<Error: column level out of range>\n",
      "None\n",
      "'<' not supported between instances of 'int' and 'str'\n",
      "<Invalid type --> Prompt an integer>\n",
      "None\n"
     ]
    }
   ],
   "source": [
    "# error messages on funnel_ration()\n",
    "print(funnel_ratio(1, all_data))\n",
    "print(funnel_ratio('two'))"
   ],
   "metadata": {
    "collapsed": false,
    "ExecuteTime": {
     "end_time": "2023-12-15T02:54:16.583576Z",
     "start_time": "2023-12-15T02:54:16.521946Z"
    }
   }
  },
  {
   "cell_type": "code",
   "execution_count": 222,
   "outputs": [
    {
     "ename": "AttributeError",
     "evalue": "'str' object has no attribute 'columns'",
     "output_type": "error",
     "traceback": [
      "\u001B[0;31m---------------------------------------------------------------------------\u001B[0m",
      "\u001B[0;31mAttributeError\u001B[0m                            Traceback (most recent call last)",
      "Cell \u001B[0;32mIn[222], line 1\u001B[0m\n\u001B[0;32m----> 1\u001B[0m \u001B[38;5;28mprint\u001B[39m(funnel_ratio(\u001B[38;5;241m2\u001B[39m))\n",
      "File \u001B[0;32m~/Library/Mobile Documents/com~apple~CloudDocs/DS-AI Projects/page_visits_funnel/funnel.py:5\u001B[0m, in \u001B[0;36mfunnel_ratio\u001B[0;34m(col_n, df)\u001B[0m\n\u001B[1;32m      3\u001B[0m \u001B[38;5;28;01mif\u001B[39;00m \u001B[38;5;241m1\u001B[39m \u001B[38;5;241m<\u001B[39m col_n \u001B[38;5;241m<\u001B[39m \u001B[38;5;241m5\u001B[39m:\n\u001B[1;32m      4\u001B[0m     dict_ \u001B[38;5;241m=\u001B[39m {\u001B[38;5;241m1\u001B[39m:\u001B[38;5;124m'\u001B[39m\u001B[38;5;124mvisit\u001B[39m\u001B[38;5;124m'\u001B[39m, \u001B[38;5;241m2\u001B[39m:\u001B[38;5;124m'\u001B[39m\u001B[38;5;124mcart\u001B[39m\u001B[38;5;124m'\u001B[39m, \u001B[38;5;241m3\u001B[39m:\u001B[38;5;124m'\u001B[39m\u001B[38;5;124mcheckout\u001B[39m\u001B[38;5;124m'\u001B[39m, \u001B[38;5;241m4\u001B[39m:\u001B[38;5;124m'\u001B[39m\u001B[38;5;124mpurchase\u001B[39m\u001B[38;5;124m'\u001B[39m}\n\u001B[0;32m----> 5\u001B[0m     str_col_1 \u001B[38;5;241m=\u001B[39m df\u001B[38;5;241m.\u001B[39mcolumns[(col_n \u001B[38;5;241m-\u001B[39m \u001B[38;5;241m1\u001B[39m)]\n\u001B[1;32m      6\u001B[0m     str_col_2 \u001B[38;5;241m=\u001B[39m df\u001B[38;5;241m.\u001B[39mcolumns[col_n]\n\u001B[1;32m      8\u001B[0m     n_col_1 \u001B[38;5;241m=\u001B[39m \u001B[38;5;28mlen\u001B[39m(df[str_col_1]) \u001B[38;5;241m-\u001B[39m df[str_col_1]\u001B[38;5;241m.\u001B[39misna()\u001B[38;5;241m.\u001B[39msum()\n",
      "\u001B[0;31mAttributeError\u001B[0m: 'str' object has no attribute 'columns'"
     ]
    }
   ],
   "source": [
    "print(funnel_ratio(2))"
   ],
   "metadata": {
    "collapsed": false,
    "ExecuteTime": {
     "end_time": "2023-12-15T02:54:16.984268Z",
     "start_time": "2023-12-15T02:54:16.943181Z"
    }
   }
  },
  {
   "cell_type": "code",
   "execution_count": 223,
   "outputs": [
    {
     "ename": "TypeError",
     "evalue": "funnel_ratio() missing 1 required positional argument: 'col_n'",
     "output_type": "error",
     "traceback": [
      "\u001B[0;31m---------------------------------------------------------------------------\u001B[0m",
      "\u001B[0;31mTypeError\u001B[0m                                 Traceback (most recent call last)",
      "Cell \u001B[0;32mIn[223], line 1\u001B[0m\n\u001B[0;32m----> 1\u001B[0m \u001B[38;5;28mprint\u001B[39m(funnel_ratio())\n",
      "\u001B[0;31mTypeError\u001B[0m: funnel_ratio() missing 1 required positional argument: 'col_n'"
     ]
    }
   ],
   "source": [
    "print(funnel_ratio())"
   ],
   "metadata": {
    "collapsed": false,
    "ExecuteTime": {
     "end_time": "2023-12-15T02:54:18.023195Z",
     "start_time": "2023-12-15T02:54:17.940423Z"
    }
   }
  },
  {
   "cell_type": "markdown",
   "metadata": {},
   "source": [
    "Step 11: examine the results"
   ]
  },
  {
   "cell_type": "code",
   "execution_count": null,
   "metadata": {
    "ExecuteTime": {
     "start_time": "2023-12-14T23:10:21.789276Z"
    }
   },
   "outputs": [],
   "source": []
  },
  {
   "cell_type": "markdown",
   "metadata": {},
   "source": [
    "Step 12: average time to purchase"
   ]
  },
  {
   "cell_type": "code",
   "execution_count": null,
   "metadata": {
    "ExecuteTime": {
     "start_time": "2023-12-14T23:10:21.794399Z"
    }
   },
   "outputs": [],
   "source": []
  },
  {
   "cell_type": "code",
   "execution_count": null,
   "metadata": {
    "ExecuteTime": {
     "start_time": "2023-12-14T23:10:21.798720Z"
    }
   },
   "outputs": [],
   "source": []
  }
 ],
 "metadata": {
  "kernelspec": {
   "display_name": "Python 3",
   "language": "python",
   "name": "python3"
  },
  "language_info": {
   "codemirror_mode": {
    "name": "ipython",
    "version": 3
   },
   "file_extension": ".py",
   "mimetype": "text/x-python",
   "name": "python",
   "nbconvert_exporter": "python",
   "pygments_lexer": "ipython3",
   "version": "3.8.5"
  }
 },
 "nbformat": 4,
 "nbformat_minor": 4
}
